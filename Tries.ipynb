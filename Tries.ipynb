{
  "nbformat": 4,
  "nbformat_minor": 0,
  "metadata": {
    "colab": {
      "provenance": [],
      "authorship_tag": "ABX9TyPvKbJIXYsbCfB2Uf+cOulp",
      "include_colab_link": true
    },
    "kernelspec": {
      "name": "python3",
      "display_name": "Python 3"
    },
    "language_info": {
      "name": "python"
    }
  },
  "cells": [
    {
      "cell_type": "markdown",
      "metadata": {
        "id": "view-in-github",
        "colab_type": "text"
      },
      "source": [
        "<a href=\"https://colab.research.google.com/github/nexustech101/colab-notebooks/blob/main/Tries.ipynb\" target=\"_parent\"><img src=\"https://colab.research.google.com/assets/colab-badge.svg\" alt=\"Open In Colab\"/></a>"
      ]
    },
    {
      "cell_type": "code",
      "execution_count": null,
      "metadata": {
        "colab": {
          "base_uri": "https://localhost:8080/"
        },
        "id": "pAcrL9_VDcvn",
        "outputId": "d2526815-96d7-4331-a076-e876f7f5f702"
      },
      "outputs": [
        {
          "output_type": "stream",
          "name": "stdout",
          "text": [
            "True\n",
            "True\n",
            "True\n",
            "False\n",
            "True\n",
            "True\n",
            "False\n",
            "False\n",
            "True\n",
            "h:\n",
            "  e:\n",
            "    *\n",
            "    l:\n",
            "      l:\n",
            "        o:\n",
            "          *\n",
            "\n"
          ]
        }
      ],
      "source": [
        "from collections import defaultdict\n",
        "\n",
        "class Trie:\n",
        "    class Node:\n",
        "        def __init__(self):\n",
        "            self.children = defaultdict(Trie.Node)\n",
        "            self.is_word_end = False\n",
        "\n",
        "        def __str__(self, level=0):\n",
        "            result = \"\"\n",
        "            if self.is_word_end:\n",
        "                result += \" \" * level + \"*\\n\"\n",
        "            for char, child in self.children.items():\n",
        "                result += \" \" * level + f\"{char}:\\n\"\n",
        "                result += child.__str__(level + 2)\n",
        "            return result\n",
        "\n",
        "    def __init__(self):\n",
        "        self.root = self.Node()\n",
        "\n",
        "    def __str__(self):\n",
        "        return self.root.__str__()\n",
        "\n",
        "    def insert(self, word) -> None:\n",
        "        current = self.root\n",
        "        for char in word:\n",
        "            current = current.children[char]\n",
        "        current.is_word_end = True\n",
        "\n",
        "    def search(self, word) -> bool:\n",
        "        current = self.root\n",
        "        for char in word:\n",
        "            if char not in current.children:\n",
        "                return False\n",
        "            current = current.children[char]\n",
        "        return current.is_word_end\n",
        "\n",
        "    def starts_with(self, prefix) -> bool:\n",
        "        current = self.root\n",
        "        for char in prefix:\n",
        "            if char not in current.children:\n",
        "                return False\n",
        "            current = current.children[char]\n",
        "        return True\n",
        "\n",
        "    def delete(self, word) -> None:\n",
        "        def _delete(current, word, index):\n",
        "            if index == len(word):\n",
        "                if not current.is_word_end:\n",
        "                    return False  # Word not found\n",
        "                current.is_word_end = False  # Unmark end of word\n",
        "                return len(current.children) == 0  # If no children, delete node\n",
        "\n",
        "            char = word[index]\n",
        "            if char not in current.children:\n",
        "                return False  # Character not found, word does not exist\n",
        "\n",
        "            should_delete_child = _delete(current.children[char], word, index + 1)\n",
        "\n",
        "            if should_delete_child:\n",
        "                del current.children[char]\n",
        "                return len(current.children) == 0  # If no children, delete node\n",
        "\n",
        "            return False\n",
        "\n",
        "        _delete(self.root, word, 0)  # Start deletion from root\n",
        "\n",
        "    def print_trie(self) -> None:\n",
        "        print(self.__str__())\n",
        "\n",
        "# Usage\n",
        "trie = Trie()\n",
        "trie.insert(\"hello\")\n",
        "trie.insert(\"hell\")\n",
        "trie.insert(\"he\")\n",
        "\n",
        "print(trie.search(\"hello\"))  # Output: True\n",
        "print(trie.search(\"hell\"))   # Output: True\n",
        "print(trie.search(\"he\"))     # Output: True\n",
        "print(trie.search(\"helicopter\"))  # Output: False\n",
        "\n",
        "print(trie.starts_with(\"he\"))  # Output: True\n",
        "print(trie.starts_with(\"hell\"))  # Output: True\n",
        "print(trie.starts_with(\"helloo\"))  # Output: False\n",
        "\n",
        "# Delete \"hell\"\n",
        "trie.delete(\"hell\")\n",
        "print(trie.search(\"hell\"))  # Output: False\n",
        "print(trie.search(\"hello\"))  # Output: True\n",
        "print(trie)\n"
      ]
    },
    {
      "cell_type": "code",
      "source": [],
      "metadata": {
        "id": "2yEbC3Mur7zh"
      },
      "execution_count": null,
      "outputs": []
    }
  ]
}